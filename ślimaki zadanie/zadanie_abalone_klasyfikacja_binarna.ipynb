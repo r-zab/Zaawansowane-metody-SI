{
 "cells": [
  {
   "cell_type": "markdown",
   "id": "d280c9a5",
   "metadata": {},
   "source": [
    "Na podstawie liczby pierscieni i innych cech ma sklasyfikowac czy slimak jest stary czy mlody"
   ]
  },
  {
   "cell_type": "code",
   "id": "42144c4d",
   "metadata": {
    "ExecuteTime": {
     "end_time": "2025-10-23T18:58:52.846453Z",
     "start_time": "2025-10-23T18:58:52.809377Z"
    }
   },
   "source": [
    "import pandas as pd\n",
    "df = pd.read_csv(\"C:\\\\Users\\\\rafal\\\\Downloads\\\\abalone (1).csv\")\n",
    "display(df.head())"
   ],
   "outputs": [
    {
     "data": {
      "text/plain": [
       "  Type  LongestShell  Diameter  Height  WholeWeight  ShuckedWeight  \\\n",
       "0    M         0.455     0.365   0.095       0.5140         0.2245   \n",
       "1    M         0.350     0.265   0.090       0.2255         0.0995   \n",
       "2    F         0.530     0.420   0.135       0.6770         0.2565   \n",
       "3    M         0.440     0.365   0.125       0.5160         0.2155   \n",
       "4    I         0.330     0.255   0.080       0.2050         0.0895   \n",
       "\n",
       "   VisceraWeight  ShellWeight  Rings  \n",
       "0         0.1010        0.150     15  \n",
       "1         0.0485        0.070      7  \n",
       "2         0.1415        0.210      9  \n",
       "3         0.1140        0.155     10  \n",
       "4         0.0395        0.055      7  "
      ],
      "text/html": [
       "<div>\n",
       "<style scoped>\n",
       "    .dataframe tbody tr th:only-of-type {\n",
       "        vertical-align: middle;\n",
       "    }\n",
       "\n",
       "    .dataframe tbody tr th {\n",
       "        vertical-align: top;\n",
       "    }\n",
       "\n",
       "    .dataframe thead th {\n",
       "        text-align: right;\n",
       "    }\n",
       "</style>\n",
       "<table border=\"1\" class=\"dataframe\">\n",
       "  <thead>\n",
       "    <tr style=\"text-align: right;\">\n",
       "      <th></th>\n",
       "      <th>Type</th>\n",
       "      <th>LongestShell</th>\n",
       "      <th>Diameter</th>\n",
       "      <th>Height</th>\n",
       "      <th>WholeWeight</th>\n",
       "      <th>ShuckedWeight</th>\n",
       "      <th>VisceraWeight</th>\n",
       "      <th>ShellWeight</th>\n",
       "      <th>Rings</th>\n",
       "    </tr>\n",
       "  </thead>\n",
       "  <tbody>\n",
       "    <tr>\n",
       "      <th>0</th>\n",
       "      <td>M</td>\n",
       "      <td>0.455</td>\n",
       "      <td>0.365</td>\n",
       "      <td>0.095</td>\n",
       "      <td>0.5140</td>\n",
       "      <td>0.2245</td>\n",
       "      <td>0.1010</td>\n",
       "      <td>0.150</td>\n",
       "      <td>15</td>\n",
       "    </tr>\n",
       "    <tr>\n",
       "      <th>1</th>\n",
       "      <td>M</td>\n",
       "      <td>0.350</td>\n",
       "      <td>0.265</td>\n",
       "      <td>0.090</td>\n",
       "      <td>0.2255</td>\n",
       "      <td>0.0995</td>\n",
       "      <td>0.0485</td>\n",
       "      <td>0.070</td>\n",
       "      <td>7</td>\n",
       "    </tr>\n",
       "    <tr>\n",
       "      <th>2</th>\n",
       "      <td>F</td>\n",
       "      <td>0.530</td>\n",
       "      <td>0.420</td>\n",
       "      <td>0.135</td>\n",
       "      <td>0.6770</td>\n",
       "      <td>0.2565</td>\n",
       "      <td>0.1415</td>\n",
       "      <td>0.210</td>\n",
       "      <td>9</td>\n",
       "    </tr>\n",
       "    <tr>\n",
       "      <th>3</th>\n",
       "      <td>M</td>\n",
       "      <td>0.440</td>\n",
       "      <td>0.365</td>\n",
       "      <td>0.125</td>\n",
       "      <td>0.5160</td>\n",
       "      <td>0.2155</td>\n",
       "      <td>0.1140</td>\n",
       "      <td>0.155</td>\n",
       "      <td>10</td>\n",
       "    </tr>\n",
       "    <tr>\n",
       "      <th>4</th>\n",
       "      <td>I</td>\n",
       "      <td>0.330</td>\n",
       "      <td>0.255</td>\n",
       "      <td>0.080</td>\n",
       "      <td>0.2050</td>\n",
       "      <td>0.0895</td>\n",
       "      <td>0.0395</td>\n",
       "      <td>0.055</td>\n",
       "      <td>7</td>\n",
       "    </tr>\n",
       "  </tbody>\n",
       "</table>\n",
       "</div>"
      ]
     },
     "metadata": {},
     "output_type": "display_data",
     "jetTransient": {
      "display_id": null
     }
    }
   ],
   "execution_count": 4
  },
  {
   "cell_type": "code",
   "id": "4cdd611c",
   "metadata": {
    "ExecuteTime": {
     "end_time": "2025-10-23T18:58:52.878047Z",
     "start_time": "2025-10-23T18:58:52.862108Z"
    }
   },
   "source": [
    "\n",
    "median_rings = df['Rings'].median()\n",
    "print(f\"Mediana liczby pierścieni: {median_rings}\")\n",
    "df['is_old'] = (df['Rings'] > median_rings).astype(int)\n",
    "# Wyświetlenie pierwszych wierszy z nową kolumną\n",
    "print(\"\\nDataFrame z nową kolumną 'is_old':\")\n",
    "print(df.head())\n",
    "# Sprawdzenie, jak rozkładają się klasy\n",
    "print(\"\\nRozkład klas (0 - młody, 1 - stary):\")\n",
    "print(df['is_old'].value_counts())\n"
   ],
   "outputs": [
    {
     "name": "stdout",
     "output_type": "stream",
     "text": [
      "Mediana liczby pierścieni: 9.0\n",
      "\n",
      "DataFrame z nową kolumną 'is_old':\n",
      "  Type  LongestShell  Diameter  Height  WholeWeight  ShuckedWeight  \\\n",
      "0    M         0.455     0.365   0.095       0.5140         0.2245   \n",
      "1    M         0.350     0.265   0.090       0.2255         0.0995   \n",
      "2    F         0.530     0.420   0.135       0.6770         0.2565   \n",
      "3    M         0.440     0.365   0.125       0.5160         0.2155   \n",
      "4    I         0.330     0.255   0.080       0.2050         0.0895   \n",
      "\n",
      "   VisceraWeight  ShellWeight  Rings  is_old  \n",
      "0         0.1010        0.150     15       1  \n",
      "1         0.0485        0.070      7       0  \n",
      "2         0.1415        0.210      9       0  \n",
      "3         0.1140        0.155     10       1  \n",
      "4         0.0395        0.055      7       0  \n",
      "\n",
      "Rozkład klas (0 - młody, 1 - stary):\n",
      "is_old\n",
      "0    2096\n",
      "1    2081\n",
      "Name: count, dtype: int64\n"
     ]
    }
   ],
   "execution_count": 5
  },
  {
   "cell_type": "code",
   "id": "f6c49d77",
   "metadata": {
    "ExecuteTime": {
     "end_time": "2025-10-23T18:58:53.085227Z",
     "start_time": "2025-10-23T18:58:53.050101Z"
    }
   },
   "source": [
    "df_processed = pd.get_dummies(df, columns=['Type'], drop_first=False, dtype=int)\n",
    "df_processed = df_processed.drop('Rings', axis=1)\n",
    "\n",
    "\n",
    "# KROK 3: Podział na zbiór treningowy i walidacyjny\n",
    "# (Dokładnie tak, jak w kodzie 'ion')\n",
    "df_train = df_processed.sample(frac=0.7, random_state=0)\n",
    "df_valid = df_processed.drop(df_train.index)\n",
    "\n",
    "# KROK 4: Skalowanie (Min-Max)\n",
    "# Stosujemy tę samą logikę co w 'ion', ale robimy to poprawniej:\n",
    "# 1. Wydzielamy X i y\n",
    "# 2. Obliczamy min/max TYLKO na X_train\n",
    "# 3. Skalujemy X_train i X_valid (bez ruszania y!)\n",
    "\n",
    "target_column = 'is_old'  # Nasz cel to teraz 'is_old'\n",
    "\n",
    "# Wydzielenie X i y dla obu zbiorów\n",
    "X_train_raw = df_train.drop(target_column, axis=1)\n",
    "y_train = df_train[target_column]\n",
    "\n",
    "X_valid_raw = df_valid.drop(target_column, axis=1)\n",
    "y_valid = df_valid[target_column]\n",
    "\n",
    "# Obliczenie statystyk (min, max) TYLKO na X_train_raw\n",
    "max_ = X_train_raw.max(axis=0)\n",
    "min_ = X_train_raw.min(axis=0)\n",
    "\n",
    "# Skalowanie (normalizacja) X_train i X_valid\n",
    "X_train = (X_train_raw - min_) / (max_ - min_)\n",
    "X_valid = (X_valid_raw - min_) / (max_ - min_)\n",
    "\n",
    "# KROK 5: Sprawdzenie, czy nie ma kolumn NaN (na wszelki wypadek)\n",
    "# (Ten krok był w kodzie 'ion', więc go powtarzamy)\n",
    "X_train.dropna(axis=1, inplace=True)\n",
    "# Upewniamy się, że zbiór walidacyjny ma te same kolumny\n",
    "X_valid = X_valid[X_train.columns]\n",
    "\n",
    "\n",
    "# KROK 6: Wyświetlenie wyników\n",
    "print(\"\\n--- Gotowe dane do modelu ---\")\n",
    "print(f\"Kształt X_train: {X_train.shape}\")\n",
    "print(f\"Kształt y_train: {y_train.shape}\")\n",
    "print(f\"Kształt X_valid: {X_valid.shape}\")\n",
    "print(f\"Kształt y_valid: {y_valid.shape}\")\n",
    "\n",
    "print(\"\\nNagłówek X_train (przeskalowany):\")\n",
    "display(X_train.head())\n",
    "\n",
    "print(\"\\nNagłówek y_train (cel):\")\n",
    "display(y_train.head())"
   ],
   "outputs": [
    {
     "name": "stdout",
     "output_type": "stream",
     "text": [
      "\n",
      "--- Gotowe dane do modelu ---\n",
      "Kształt X_train: (2924, 10)\n",
      "Kształt y_train: (2924,)\n",
      "Kształt X_valid: (1253, 10)\n",
      "Kształt y_valid: (1253,)\n",
      "\n",
      "Nagłówek X_train (przeskalowany):\n"
     ]
    },
    {
     "data": {
      "text/plain": [
       "      LongestShell  Diameter    Height  WholeWeight  ShuckedWeight  \\\n",
       "668       0.624113  0.598214  0.300971     0.322804       0.203930   \n",
       "1580      0.553191  0.553571  0.233010     0.215794       0.191694   \n",
       "3784      0.723404  0.696429  0.300971     0.442768       0.388951   \n",
       "463       0.156028  0.133929  0.106796     0.016504       0.014090   \n",
       "2615      0.758865  0.732143  0.339806     0.533274       0.497590   \n",
       "\n",
       "      VisceraWeight  ShellWeight  Type_F  Type_I  Type_M  \n",
       "668        0.319289     0.371365     0.0     0.0     1.0  \n",
       "1580       0.187623     0.213087     0.0     1.0     0.0  \n",
       "3784       0.491771     0.351790     0.0     0.0     1.0  \n",
       "463        0.015142     0.019016     0.0     1.0     0.0  \n",
       "2615       0.493746     0.418904     0.0     0.0     1.0  "
      ],
      "text/html": [
       "<div>\n",
       "<style scoped>\n",
       "    .dataframe tbody tr th:only-of-type {\n",
       "        vertical-align: middle;\n",
       "    }\n",
       "\n",
       "    .dataframe tbody tr th {\n",
       "        vertical-align: top;\n",
       "    }\n",
       "\n",
       "    .dataframe thead th {\n",
       "        text-align: right;\n",
       "    }\n",
       "</style>\n",
       "<table border=\"1\" class=\"dataframe\">\n",
       "  <thead>\n",
       "    <tr style=\"text-align: right;\">\n",
       "      <th></th>\n",
       "      <th>LongestShell</th>\n",
       "      <th>Diameter</th>\n",
       "      <th>Height</th>\n",
       "      <th>WholeWeight</th>\n",
       "      <th>ShuckedWeight</th>\n",
       "      <th>VisceraWeight</th>\n",
       "      <th>ShellWeight</th>\n",
       "      <th>Type_F</th>\n",
       "      <th>Type_I</th>\n",
       "      <th>Type_M</th>\n",
       "    </tr>\n",
       "  </thead>\n",
       "  <tbody>\n",
       "    <tr>\n",
       "      <th>668</th>\n",
       "      <td>0.624113</td>\n",
       "      <td>0.598214</td>\n",
       "      <td>0.300971</td>\n",
       "      <td>0.322804</td>\n",
       "      <td>0.203930</td>\n",
       "      <td>0.319289</td>\n",
       "      <td>0.371365</td>\n",
       "      <td>0.0</td>\n",
       "      <td>0.0</td>\n",
       "      <td>1.0</td>\n",
       "    </tr>\n",
       "    <tr>\n",
       "      <th>1580</th>\n",
       "      <td>0.553191</td>\n",
       "      <td>0.553571</td>\n",
       "      <td>0.233010</td>\n",
       "      <td>0.215794</td>\n",
       "      <td>0.191694</td>\n",
       "      <td>0.187623</td>\n",
       "      <td>0.213087</td>\n",
       "      <td>0.0</td>\n",
       "      <td>1.0</td>\n",
       "      <td>0.0</td>\n",
       "    </tr>\n",
       "    <tr>\n",
       "      <th>3784</th>\n",
       "      <td>0.723404</td>\n",
       "      <td>0.696429</td>\n",
       "      <td>0.300971</td>\n",
       "      <td>0.442768</td>\n",
       "      <td>0.388951</td>\n",
       "      <td>0.491771</td>\n",
       "      <td>0.351790</td>\n",
       "      <td>0.0</td>\n",
       "      <td>0.0</td>\n",
       "      <td>1.0</td>\n",
       "    </tr>\n",
       "    <tr>\n",
       "      <th>463</th>\n",
       "      <td>0.156028</td>\n",
       "      <td>0.133929</td>\n",
       "      <td>0.106796</td>\n",
       "      <td>0.016504</td>\n",
       "      <td>0.014090</td>\n",
       "      <td>0.015142</td>\n",
       "      <td>0.019016</td>\n",
       "      <td>0.0</td>\n",
       "      <td>1.0</td>\n",
       "      <td>0.0</td>\n",
       "    </tr>\n",
       "    <tr>\n",
       "      <th>2615</th>\n",
       "      <td>0.758865</td>\n",
       "      <td>0.732143</td>\n",
       "      <td>0.339806</td>\n",
       "      <td>0.533274</td>\n",
       "      <td>0.497590</td>\n",
       "      <td>0.493746</td>\n",
       "      <td>0.418904</td>\n",
       "      <td>0.0</td>\n",
       "      <td>0.0</td>\n",
       "      <td>1.0</td>\n",
       "    </tr>\n",
       "  </tbody>\n",
       "</table>\n",
       "</div>"
      ]
     },
     "metadata": {},
     "output_type": "display_data",
     "jetTransient": {
      "display_id": null
     }
    },
    {
     "name": "stdout",
     "output_type": "stream",
     "text": [
      "\n",
      "Nagłówek y_train (cel):\n"
     ]
    },
    {
     "data": {
      "text/plain": [
       "668     1\n",
       "1580    0\n",
       "3784    1\n",
       "463     0\n",
       "2615    1\n",
       "Name: is_old, dtype: int64"
      ]
     },
     "metadata": {},
     "output_type": "display_data",
     "jetTransient": {
      "display_id": null
     }
    }
   ],
   "execution_count": 6
  },
  {
   "cell_type": "code",
   "id": "0792e2d7",
   "metadata": {
    "ExecuteTime": {
     "end_time": "2025-10-23T18:58:53.826213Z",
     "start_time": "2025-10-23T18:58:53.596610Z"
    }
   },
   "source": [
    "from tensorflow import keras\n",
    "from tensorflow.keras import layers\n",
    "\n",
    "model = keras.Sequential([\n",
    "    layers.Dense(32, activation='relu', input_shape=[10]),\n",
    "    layers.Dropout(0.2),\n",
    "    layers.Dense(16, activation='relu'),\n",
    "    layers.Dropout(0.2),    \n",
    "    layers.Dense(1, activation='sigmoid'),\n",
    "])"
   ],
   "outputs": [
    {
     "name": "stderr",
     "output_type": "stream",
     "text": [
      "C:\\Users\\rafal\\PycharmProjects\\smart-booking-system\\venv\\Lib\\site-packages\\keras\\src\\layers\\core\\dense.py:92: UserWarning: Do not pass an `input_shape`/`input_dim` argument to a layer. When using Sequential models, prefer using an `Input(shape)` object as the first layer in the model instead.\n",
      "  super().__init__(activity_regularizer=activity_regularizer, **kwargs)\n"
     ]
    }
   ],
   "execution_count": 7
  },
  {
   "cell_type": "code",
   "id": "e22a5cc2",
   "metadata": {
    "ExecuteTime": {
     "end_time": "2025-10-23T18:58:54.218080Z",
     "start_time": "2025-10-23T18:58:54.201408Z"
    }
   },
   "source": [
    "model.compile(\n",
    "    optimizer='adam',\n",
    "    loss='binary_crossentropy',\n",
    "    metrics=['binary_accuracy'],\n",
    ")"
   ],
   "outputs": [],
   "execution_count": 8
  },
  {
   "cell_type": "code",
   "id": "b2d9284c",
   "metadata": {
    "ExecuteTime": {
     "end_time": "2025-10-23T18:59:12.162777Z",
     "start_time": "2025-10-23T18:58:54.267556Z"
    }
   },
   "source": [
    "early_stopping = keras.callbacks.EarlyStopping(\n",
    "    patience=10,\n",
    "    min_delta=0.001,\n",
    "    restore_best_weights=True,\n",
    ")\n",
    "\n",
    "history = model.fit(\n",
    "    X_train, y_train,\n",
    "    validation_data=(X_valid, y_valid),\n",
    "    batch_size=128,\n",
    "    epochs=300,\n",
    "    callbacks=[early_stopping],\n",
    "    verbose=0, # hide the output because we have so many epochs\n",
    ")"
   ],
   "outputs": [],
   "execution_count": 9
  },
  {
   "cell_type": "code",
   "id": "ee5ed7e2",
   "metadata": {
    "ExecuteTime": {
     "end_time": "2025-10-23T18:59:13.239164Z",
     "start_time": "2025-10-23T18:59:12.811968Z"
    }
   },
   "source": [
    "history_df = pd.DataFrame(history.history)\n",
    "# Start the plot at epoch 5\n",
    "history_df.loc[5:, ['loss', 'val_loss']].plot()\n",
    "history_df.loc[5:, ['binary_accuracy', 'val_binary_accuracy']].plot()\n",
    "\n",
    "print((\"Best Validation Loss: {:0.4f}\" +\\\n",
    "      \"\\nBest Validation Accuracy: {:0.4f}\")\\\n",
    "      .format(history_df['val_loss'].min(), \n",
    "              history_df['val_binary_accuracy'].max()))"
   ],
   "outputs": [
    {
     "name": "stdout",
     "output_type": "stream",
     "text": [
      "Best Validation Loss: 0.4553\n",
      "Best Validation Accuracy: 0.7877\n"
     ]
    },
    {
     "data": {
      "text/plain": [
       "<Figure size 640x480 with 1 Axes>"
      ],
      "image/png": "[encoded data removed]"
     },
     "metadata": {},
     "output_type": "display_data",
     "jetTransient": {
      "display_id": null
     }
    },
    {
     "data": {
      "text/plain": [
       "<Figure size 640x480 with 1 Axes>"
      ],
      "image/png": "[encoded data removed]"
     },
     "metadata": {},
     "output_type": "display_data",
     "jetTransient": {
      "display_id": null
     }
    }
   ],
   "execution_count": 10
  }
 ],
 "metadata": {
  "kernelspec": {
   "display_name": "102141",
   "language": "python",
   "name": "python3"
  },
  "language_info": {
   "codemirror_mode": {
    "name": "ipython",
    "version": 3
   },
   "file_extension": ".py",
   "mimetype": "text/x-python",
   "name": "python",
   "nbconvert_exporter": "python",
   "pygments_lexer": "ipython3",
   "version": "3.12.7"
  }
 },
 "nbformat": 4,
 "nbformat_minor": 5
}
